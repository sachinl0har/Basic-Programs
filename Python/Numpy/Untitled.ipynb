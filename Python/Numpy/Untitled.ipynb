{
 "cells": [
  {
   "cell_type": "code",
   "execution_count": 1,
   "id": "84b6cfba",
   "metadata": {},
   "outputs": [],
   "source": [
    "import numpy as np"
   ]
  },
  {
   "cell_type": "code",
   "execution_count": 2,
   "id": "cb0e97e1",
   "metadata": {},
   "outputs": [],
   "source": [
    "# 0D ARRAY\n",
    "arr = np.array(42)"
   ]
  },
  {
   "cell_type": "code",
   "execution_count": 3,
   "id": "9177406f",
   "metadata": {},
   "outputs": [
    {
     "name": "stdout",
     "output_type": "stream",
     "text": [
      "42\n"
     ]
    }
   ],
   "source": [
    "print(arr)"
   ]
  },
  {
   "cell_type": "code",
   "execution_count": 4,
   "id": "66f2da9b",
   "metadata": {},
   "outputs": [],
   "source": [
    "# 1D ARRAY\n",
    "arr1 = np.array([1, 2, 3, 4, 5])"
   ]
  },
  {
   "cell_type": "code",
   "execution_count": 5,
   "id": "a6d5c370",
   "metadata": {},
   "outputs": [
    {
     "name": "stdout",
     "output_type": "stream",
     "text": [
      "[1 2 3 4 5]\n"
     ]
    }
   ],
   "source": [
    "print(arr1)"
   ]
  },
  {
   "cell_type": "code",
   "execution_count": 6,
   "id": "44fe57a4",
   "metadata": {},
   "outputs": [
    {
     "name": "stdout",
     "output_type": "stream",
     "text": [
      "[[1 2 3]\n",
      " [4 5 6]]\n"
     ]
    }
   ],
   "source": [
    "# 2D ARRAY\n",
    "arr2 = np.array([[1, 2, 3], [4, 5, 6]])\n",
    "print(arr2)"
   ]
  },
  {
   "cell_type": "code",
   "execution_count": 7,
   "id": "6870616c",
   "metadata": {},
   "outputs": [
    {
     "name": "stdout",
     "output_type": "stream",
     "text": [
      "[[[1 2 3]\n",
      "  [4 5 6]]\n",
      "\n",
      " [[1 2 3]\n",
      "  [4 5 6]]]\n"
     ]
    }
   ],
   "source": [
    "# 3D ARRAY\n",
    "arr3 = np.array([[[1, 2, 3], [4, 5, 6]], [[1, 2, 3], [4, 5, 6]]])\n",
    "print(arr3)"
   ]
  },
  {
   "cell_type": "code",
   "execution_count": 8,
   "id": "74245d83",
   "metadata": {},
   "outputs": [
    {
     "name": "stdout",
     "output_type": "stream",
     "text": [
      "[[[[[1 2 3 4]]]]]\n"
     ]
    }
   ],
   "source": [
    "# 5D ARRAY\n",
    "arr4 = np.array([1, 2, 3, 4], ndmin=5)\n",
    "print(arr4)"
   ]
  },
  {
   "cell_type": "code",
   "execution_count": 9,
   "id": "648f121b",
   "metadata": {},
   "outputs": [
    {
     "name": "stdout",
     "output_type": "stream",
     "text": [
      "0\n",
      "1\n",
      "2\n",
      "3\n"
     ]
    }
   ],
   "source": [
    "# NUMBER OF DIMENSIONS\n",
    "a = np.array(42)\n",
    "b = np.array([1, 2, 3, 4, 5])\n",
    "c = np.array([[1, 2, 3], [4, 5, 6]])\n",
    "d = np.array([[[1, 2, 3], [4, 5, 6]], [[1, 2, 3], [4, 5, 6]]])\n",
    "\n",
    "print(a.ndim)\n",
    "print(b.ndim)\n",
    "print(c.ndim)\n",
    "print(d.ndim)"
   ]
  },
  {
   "cell_type": "code",
   "execution_count": 10,
   "id": "3a8e113b",
   "metadata": {},
   "outputs": [
    {
     "name": "stdout",
     "output_type": "stream",
     "text": [
      "1\n",
      "2\n",
      "6\n"
     ]
    }
   ],
   "source": [
    "# ACCESSING THE ARRYS\n",
    "arrr = np.array([1, 2, 3, 4])\n",
    "arrr1 = np.array([[1,2,3,4,5], [6,7,8,9,10]])\n",
    "arrr2 = np.array([[[1, 2, 3], [4, 5, 6]], [[7, 8, 9], [10, 11, 12]]])\n",
    "\n",
    "print(arrr[0])\n",
    "print(arrr1[0, 1])\n",
    "print(arrr2[0, 1, 2])"
   ]
  },
  {
   "cell_type": "code",
   "execution_count": 11,
   "id": "1e209340",
   "metadata": {},
   "outputs": [
    {
     "name": "stdout",
     "output_type": "stream",
     "text": [
      "10\n"
     ]
    }
   ],
   "source": [
    "# NEGATIVE INDEXING\n",
    "array = np.array([[1,2,3,4,5], [6,7,8,9,10]])\n",
    "print(array[1, -1])"
   ]
  },
  {
   "cell_type": "code",
   "execution_count": 12,
   "id": "403be162",
   "metadata": {},
   "outputs": [
    {
     "name": "stdout",
     "output_type": "stream",
     "text": [
      "[[ 6  7  8  9 10]]\n",
      "[]\n",
      "[[1 2 3 4 5]]\n",
      "[[ 6  7  8  9 10]]\n",
      "[[ 6  7  8  9 10]]\n"
     ]
    }
   ],
   "source": [
    "# ARRAY SLICING\n",
    "array1 = np.array([1, 2, 3, 4, 5, 6, 7])\n",
    "\n",
    "print(array[1:5]) # MIDDLE SLICE\n",
    "print(array[4:]) #END OF THE ARRAY SLICE\n",
    "print(array[-3:-1]) # NEGATIVE SLICING\n",
    "print(array[1:5:2]) #STEP SLICE\n",
    "print(array[1:5:2]) # 2D ARRAY SLICE"
   ]
  },
  {
   "cell_type": "code",
   "execution_count": 13,
   "id": "ea1efd5d",
   "metadata": {},
   "outputs": [
    {
     "name": "stdout",
     "output_type": "stream",
     "text": [
      "[42  2  3  4  5]\n",
      "[1 2 3 4 5]\n"
     ]
    }
   ],
   "source": [
    "# ARRAY COPY\n",
    "arrray = np.array([1, 2, 3, 4, 5])\n",
    "x = arrray.copy()\n",
    "arrray[0] = 42\n",
    "\n",
    "print(arrray)\n",
    "print(x)"
   ]
  },
  {
   "cell_type": "code",
   "execution_count": 14,
   "id": "4a2d67be",
   "metadata": {},
   "outputs": [
    {
     "name": "stdout",
     "output_type": "stream",
     "text": [
      "[42  2  3  4  5]\n",
      "[42  2  3  4  5]\n"
     ]
    }
   ],
   "source": [
    "# VIEW\n",
    "arrray = np.array([1, 2, 3, 4, 5])\n",
    "x = arrray.view()\n",
    "arrray[0] = 42\n",
    "\n",
    "print(arrray)\n",
    "print(x)"
   ]
  },
  {
   "cell_type": "code",
   "execution_count": 15,
   "id": "d59560eb",
   "metadata": {},
   "outputs": [
    {
     "name": "stdout",
     "output_type": "stream",
     "text": [
      "(2, 3)\n"
     ]
    }
   ],
   "source": [
    "# 2D ARRAY SHAPE\n",
    "print(arr2.shape)"
   ]
  },
  {
   "cell_type": "code",
   "execution_count": 16,
   "id": "2b4a801c",
   "metadata": {},
   "outputs": [
    {
     "name": "stdout",
     "output_type": "stream",
     "text": [
      "(1, 1, 1, 1, 4)\n"
     ]
    }
   ],
   "source": [
    "# 5D ARRAY SHAPE\n",
    "print(arr4.shape)"
   ]
  },
  {
   "cell_type": "code",
   "execution_count": 17,
   "id": "619198b1",
   "metadata": {},
   "outputs": [
    {
     "name": "stdout",
     "output_type": "stream",
     "text": [
      "[[ 1  2  3]\n",
      " [ 4  5  6]\n",
      " [ 7  8  9]\n",
      " [10 11 12]]\n"
     ]
    }
   ],
   "source": [
    "# 1D TO 2D RESHAPING\n",
    "arrd1 = np.array([1, 2, 3, 4, 5, 6, 7, 8, 9, 10, 11, 12])\n",
    "newarr = arrd1.reshape(4, 3)\n",
    "\n",
    "print(newarr)"
   ]
  },
  {
   "cell_type": "code",
   "execution_count": 18,
   "id": "ee08f674",
   "metadata": {},
   "outputs": [
    {
     "name": "stdout",
     "output_type": "stream",
     "text": [
      "[[[ 1  2]\n",
      "  [ 3  4]\n",
      "  [ 5  6]]\n",
      "\n",
      " [[ 7  8]\n",
      "  [ 9 10]\n",
      "  [11 12]]]\n"
     ]
    }
   ],
   "source": [
    "# 1D TO 3D RESHAPING\n",
    "newarr3d = arrd1.reshape(2, 3, 2)\n",
    "\n",
    "print(newarr3d)"
   ]
  },
  {
   "cell_type": "code",
   "execution_count": 21,
   "id": "bae4dcfc",
   "metadata": {},
   "outputs": [
    {
     "name": "stdout",
     "output_type": "stream",
     "text": [
      "1\n",
      "2\n",
      "3\n",
      "4\n",
      "5\n"
     ]
    }
   ],
   "source": [
    "# ITERATING 1D\n",
    "for x in arr1:\n",
    "    print(x)"
   ]
  },
  {
   "cell_type": "code",
   "execution_count": 22,
   "id": "ab673051",
   "metadata": {},
   "outputs": [
    {
     "name": "stdout",
     "output_type": "stream",
     "text": [
      "[1 2 3]\n",
      "[4 5 6]\n"
     ]
    }
   ],
   "source": [
    "# ITERATING 2D\n",
    "for x in arr2:\n",
    "    print(x)"
   ]
  },
  {
   "cell_type": "code",
   "execution_count": 23,
   "id": "d50d9ca8",
   "metadata": {},
   "outputs": [
    {
     "name": "stdout",
     "output_type": "stream",
     "text": [
      "1\n",
      "2\n",
      "3\n",
      "4\n",
      "5\n",
      "6\n"
     ]
    }
   ],
   "source": [
    "# ITERATING SCALAR ELEMENT 2D\n",
    "arrScalarEl = np.array([[1, 2, 3], [4, 5, 6]])\n",
    "for x in arrScalarEl:\n",
    "    for y in x:\n",
    "        print(y)"
   ]
  },
  {
   "cell_type": "markdown",
   "id": "23f43b64",
   "metadata": {},
   "source": []
  },
  {
   "cell_type": "code",
   "execution_count": 24,
   "id": "1524b0d3",
   "metadata": {},
   "outputs": [
    {
     "name": "stdout",
     "output_type": "stream",
     "text": [
      "[[1 2 3]\n",
      " [4 5 6]]\n",
      "[[1 2 3]\n",
      " [4 5 6]]\n"
     ]
    }
   ],
   "source": [
    "# ITERATING 3D\n",
    "for x in arr3:\n",
    "    print(x)"
   ]
  },
  {
   "cell_type": "code",
   "execution_count": 26,
   "id": "3adcfd5b",
   "metadata": {},
   "outputs": [
    {
     "name": "stdout",
     "output_type": "stream",
     "text": [
      "[1 2 3 4 5 6]\n"
     ]
    }
   ],
   "source": [
    "# JOINING 2 1D ARRAYS\n",
    "a1 = np.array([1, 2, 3])\n",
    "a2 = np.array([4, 5, 6])\n",
    "b = np.concatenate((a1, a2))\n",
    "print(b)"
   ]
  },
  {
   "cell_type": "code",
   "execution_count": 27,
   "id": "8823c117",
   "metadata": {},
   "outputs": [
    {
     "name": "stdout",
     "output_type": "stream",
     "text": [
      "[[1 2 5 6]\n",
      " [3 4 7 8]]\n"
     ]
    }
   ],
   "source": [
    "# JOINING 2 2D ARRAYS\n",
    "ar1 = np.array([[1, 2], [3, 4]])\n",
    "ar2 = np.array([[5, 6], [7, 8]])\n",
    "\n",
    "ar3 = np.concatenate((ar1, ar2), axis=1)\n",
    "\n",
    "print(ar3)"
   ]
  },
  {
   "cell_type": "code",
   "execution_count": 30,
   "id": "d2ba3397",
   "metadata": {},
   "outputs": [
    {
     "name": "stdout",
     "output_type": "stream",
     "text": [
      "1D Array Sort\n",
      "[0 1 2 3]\n",
      "2D Array Sort\n",
      "[[2 3 4]\n",
      " [0 1 5]]\n"
     ]
    }
   ],
   "source": [
    "# SORTING\n",
    "arr1Sort = np.array([3, 2, 0, 1])\n",
    "arr2Sort = np.array([[3, 2, 4], [5, 0, 1]])\n",
    "\n",
    "print(\"1D Array Sort\")\n",
    "print(np.sort(arr1Sort))\n",
    "print(\"2D Array Sort\")\n",
    "print(np.sort(arr2Sort))"
   ]
  },
  {
   "cell_type": "code",
   "execution_count": 32,
   "id": "08cdab48",
   "metadata": {},
   "outputs": [
    {
     "name": "stdout",
     "output_type": "stream",
     "text": [
      "56\n"
     ]
    }
   ],
   "source": [
    "# GENERATE RANDOM NUMBER \n",
    "from numpy import random\n",
    "xRand = random.randint(100)\n",
    "\n",
    "print(xRand)"
   ]
  },
  {
   "cell_type": "code",
   "execution_count": 33,
   "id": "ac73b1b4",
   "metadata": {},
   "outputs": [
    {
     "name": "stdout",
     "output_type": "stream",
     "text": [
      "[52 89 44 56 91]\n"
     ]
    }
   ],
   "source": [
    "# GENERATE RANDOM ARRAY\n",
    "randArr = random.randint(100, size=(5))\n",
    "\n",
    "print(randArr)"
   ]
  },
  {
   "cell_type": "code",
   "execution_count": 36,
   "id": "5c97e8ad",
   "metadata": {},
   "outputs": [
    {
     "name": "stdout",
     "output_type": "stream",
     "text": [
      "7\n"
     ]
    }
   ],
   "source": [
    "# GENERATE RANDOM NUMBER FROM ARRAY\n",
    "randArrNum = random.choice([3, 5, 7, 9])\n",
    "\n",
    "print(randArrNum)"
   ]
  },
  {
   "cell_type": "code",
   "execution_count": 42,
   "id": "3c7a76b2",
   "metadata": {},
   "outputs": [
    {
     "name": "stdout",
     "output_type": "stream",
     "text": [
      "Summations\n",
      "[30 32 34 36 38 40]\n",
      "Difference\n",
      "[  5  10 -20]\n",
      "Product\n",
      "24\n",
      "LCM\n",
      "18\n",
      "GCD\n",
      "3\n"
     ]
    }
   ],
   "source": [
    "# ARITHMETIC FUNCTIONS\n",
    "# SUMMATIONS\n",
    "arr11 = np.array([10, 11, 12, 13, 14, 15])\n",
    "arr22 = np.array([20, 21, 22, 23, 24, 25])\n",
    "\n",
    "newarrr = np.add(arr11, arr22)\n",
    "\n",
    "print(\"Summations\")\n",
    "print(newarrr)\n",
    "# DIFFERENCE\n",
    "arrDiff = np.array([10, 15, 25, 5])\n",
    "\n",
    "newarrDiff = np.diff(arrDiff)\n",
    "\n",
    "print(\"Difference\")\n",
    "print(newarrDiff)\n",
    "# PRODUCTS\n",
    "arrProd = np.array([1, 2, 3, 4])\n",
    "\n",
    "xProd = np.prod(arrProd)\n",
    "\n",
    "print(\"Product\")\n",
    "print(xProd)\n",
    "# LCM\n",
    "num1 = 6\n",
    "num2 = 9\n",
    "lcm = np.lcm(num1, num2)\n",
    "\n",
    "print(\"LCM\")\n",
    "print(lcm)\n",
    "# GCD\n",
    "gcd = np.gcd(num1, num2)\n",
    "print(\"GCD\")\n",
    "print(gcd)"
   ]
  },
  {
   "cell_type": "code",
   "execution_count": null,
   "id": "7a13b62b",
   "metadata": {},
   "outputs": [],
   "source": []
  }
 ],
 "metadata": {
  "kernelspec": {
   "display_name": "Python 3",
   "language": "python",
   "name": "python3"
  },
  "language_info": {
   "codemirror_mode": {
    "name": "ipython",
    "version": 3
   },
   "file_extension": ".py",
   "mimetype": "text/x-python",
   "name": "python",
   "nbconvert_exporter": "python",
   "pygments_lexer": "ipython3",
   "version": "3.9.1"
  }
 },
 "nbformat": 4,
 "nbformat_minor": 5
}
